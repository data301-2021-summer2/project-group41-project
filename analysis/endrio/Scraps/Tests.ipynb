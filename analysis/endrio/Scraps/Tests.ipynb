{
 "cells": [
  {
   "cell_type": "code",
   "execution_count": null,
   "id": "bfc4792c-1cc0-444d-8705-b72d9dafd419",
   "metadata": {},
   "outputs": [],
   "source": [
    "#plot fire duration versus year\n",
    "\n",
    "year_p_dur = df[['FIRE_YEAR', 'DISCOVERY_DATE', 'CONT_DATE']].copy()\n",
    "\n",
    "indexNames = year_p_dur[ year_p_dur['CONT_DATE'] == '9999-12-31 0:00:00' ].index\n",
    "year_p_dur.drop(indexNames , inplace=True)\n",
    "\n",
    "year_p_dur['Disc_Datetime'] = (pd.to_datetime(year_p_dur['DISCOVERY_DATE'])).dt.date\n",
    "year_p_dur['Cont_Datetime'] = (pd.to_datetime(year_p_dur['CONT_DATE'])).dt.date\n",
    "\n",
    "year_p_dur['Fire_Duration'] = (year_p_dur['Cont_Datetime'] - year_p_dur['Disc_Datetime']).dt.days\n",
    "\n",
    "dimensions = (15, 7)\n",
    "fig, ax = plt.subplots(figsize=dimensions)\n",
    "plot3 = sns.barplot(x=\"FIRE_YEAR\", y=\"Fire_Duration\", data=year_p_dur)\n",
    "plt.show()\n",
    "\n",
    "#Could also plot duration vs location for all years and see how that changes...somehow\n"
   ]
  }
 ],
 "metadata": {
  "kernelspec": {
   "display_name": "Python 3 (ipykernel)",
   "language": "python",
   "name": "python3"
  },
  "language_info": {
   "codemirror_mode": {
    "name": "ipython",
    "version": 3
   },
   "file_extension": ".py",
   "mimetype": "text/x-python",
   "name": "python",
   "nbconvert_exporter": "python",
   "pygments_lexer": "ipython3",
   "version": "3.8.5"
  }
 },
 "nbformat": 4,
 "nbformat_minor": 5
}
