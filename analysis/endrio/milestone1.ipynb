{
 "cells": [
  {
   "cell_type": "code",
   "execution_count": null,
   "id": "5d98c825-a4ff-41e3-b658-d85fb02b2af0",
   "metadata": {},
   "outputs": [],
   "source": [
    "#ran pip install pyodbc in Terminal\n",
    "\n",
    "import pandas\n",
    "import pyodbc\n",
    "\n",
    "conn = pyodbc.connect(r'DRIVER={Microsoft Access Driver (*.mdb, *.accdb)};UID=admin;UserCommitSync=Yes;Threads=3;SafeTransactions=0;PageTimeout=5;MaxScanRows=8;MaxBufferSize=2048;FIL=MS Access;DriverId=25;DefaultDir=C:\\Users\\riora\\Documents\\A+Documents\\UBC\\Summer21\\DATA301\\Project\\RawDataDownload\\Data;DBQ=C:\\Users\\riora\\Documents\\A+Documents\\UBC\\Summer21\\DATA301\\Project\\RawDataDownload\\Data\\FPA_FOD_20210617.accdb;')\n",
    "cursor = conn.cursor()\n",
    "cursor.execute('select * from Fires')\n",
    "   \n",
    "for row in cursor.fetchall():\n",
    "   print (row)\n",
    "cursor.close()\n",
    "cursor_pendings.close\n",
    "conn.close()"
   ]
  },
  {
   "cell_type": "code",
   "execution_count": null,
   "id": "73a70062-ff08-44c3-86cf-3ca3b3820540",
   "metadata": {},
   "outputs": [],
   "source": []
  }
 ],
 "metadata": {
  "kernelspec": {
   "display_name": "Python 3 (ipykernel)",
   "language": "python",
   "name": "python3"
  },
  "language_info": {
   "codemirror_mode": {
    "name": "ipython",
    "version": 3
   },
   "file_extension": ".py",
   "mimetype": "text/x-python",
   "name": "python",
   "nbconvert_exporter": "python",
   "pygments_lexer": "ipython3",
   "version": "3.8.5"
  }
 },
 "nbformat": 4,
 "nbformat_minor": 5
}
