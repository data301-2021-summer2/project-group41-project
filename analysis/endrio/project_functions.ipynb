{
 "cells": [
  {
   "cell_type": "code",
   "execution_count": 1,
   "id": "b3c3b8fe-eb98-45c4-a0b8-3c42071940df",
   "metadata": {},
   "outputs": [],
   "source": [
    "import pandas as pd\n",
    "import numpy as py"
   ]
  },
  {
   "cell_type": "code",
   "execution_count": 2,
   "id": "4f1b84fd-87a4-415b-b227-518433d9e8e4",
   "metadata": {},
   "outputs": [],
   "source": [
    "def load_n_process(file_path):\n",
    "\n",
    "    #Chain 1: Loading Data, removing unnecessary columns, and renaming necessary columns.\n",
    "    df1 = (\n",
    "        pd.read_csv(file_path, encoding = 'ISO-8859-1', low_memory=False)\n",
    "        .drop(columns=['NWCG_REPORTING_UNIT_NAME', 'FPA_ID', 'SOURCE_SYSTEM_TYPE', 'SOURCE_SYSTEM', 'NWCG_REPORTING_AGENCY', 'NWCG_REPORTING_UNIT_ID', 'SOURCE_REPORTING_UNIT', 'SOURCE_REPORTING_UNIT_NAME', 'LOCAL_FIRE_REPORT_ID', 'LOCAL_INCIDENT_ID', 'FIRE_CODE', 'ICS_209_PLUS_INCIDENT_JOIN_ID', 'ICS_209_PLUS_COMPLEX_JOIN_ID', 'MTBS_ID', 'MTBS_FIRE_NAME', 'COMPLEX_NAME', 'DISCOVERY_DOY', 'NWCG_CAUSE_AGE_CATEGORY', 'OWNER_DESCR', 'COUNTY', 'NWCG_GENERAL_CAUSE'])\n",
    "        .rename(columns = {'NWCG_CAUSE_CLASSIFICATION':'CAUSE'})\n",
    "        .dropna()\n",
    "    )\n",
    "    \n",
    "    df2 = df1\n",
    "    \n",
    "    #Chain 2: Dropping unnecessary rows, and resetting the index to aid in analysis.\n",
    "    df2 = (\n",
    "        df2.drop(df2[(df2['FIRE_SIZE_CLASS']=='A')].index)\n",
    "        .drop(df2[(df2['FIRE_SIZE_CLASS']=='B')].index)\n",
    "        .reset_index()\n",
    "        \n",
    "    )\n",
    "\n",
    "    dflatest=df2\n",
    "    return dflatest\n",
    "\n"
   ]
  },
  {
   "cell_type": "code",
   "execution_count": null,
   "id": "38c234ae-275f-44f6-8179-350605cca146",
   "metadata": {},
   "outputs": [],
   "source": []
  }
 ],
 "metadata": {
  "kernelspec": {
   "display_name": "Python 3 (ipykernel)",
   "language": "python",
   "name": "python3"
  },
  "language_info": {
   "codemirror_mode": {
    "name": "ipython",
    "version": 3
   },
   "file_extension": ".py",
   "mimetype": "text/x-python",
   "name": "python",
   "nbconvert_exporter": "python",
   "pygments_lexer": "ipython3",
   "version": "3.8.5"
  }
 },
 "nbformat": 4,
 "nbformat_minor": 5
}
