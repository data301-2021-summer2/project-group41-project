{
 "cells": [
  {
   "cell_type": "code",
   "execution_count": null,
   "id": "a5f9008c",
   "metadata": {},
   "outputs": [],
   "source": [
    "import pandas\n",
    "import pyodbc\n",
    "\n",
    "conn = pyodbc.connect(r'DRIVER={Microsoft Access Driver (*.mdb, *.accdb)};UID=admin;UserCommitSync=Yes;Threads=3;SafeTransactions=0;PageTimeout=5;MaxScanRows=8;MaxBufferSize=2048;FIL=MS Access;DriverId=25;DefaultDir=C:\\Users\\Don\\Desktop\\DATA 301\\Project;DBQ=C:\\Users\\Don\\Desktop\\DATA 301\\Project\\FPA_FOD_20210617.accdb;')\n",
    "cursor = conn.cursor()\n",
    "cursor.execute('select * from Fires')\n",
    "\n",
    "for row in cursor.fetchall():\n",
    "   print (row)\n",
    "cursor.close()\n",
    "cursor_pendings.close\n",
    "conn.close()\n",
    "\n",
    "#data set is too large to convert into a CSV file, got it to print in jupyter lab but it is not easily readable yet. Need to wait for friday's lecture to learn how to load data."
   ]
  },
  {
   "cell_type": "code",
   "execution_count": null,
   "id": "d9ba3f3f",
   "metadata": {},
   "outputs": [],
   "source": []
  }
 ],
 "metadata": {
  "kernelspec": {
   "display_name": "Python 3",
   "language": "python",
   "name": "python3"
  },
  "language_info": {
   "codemirror_mode": {
    "name": "ipython",
    "version": 3
   },
   "file_extension": ".py",
   "mimetype": "text/x-python",
   "name": "python",
   "nbconvert_exporter": "python",
   "pygments_lexer": "ipython3",
   "version": "3.8.5"
  }
 },
 "nbformat": 4,
 "nbformat_minor": 5
}
