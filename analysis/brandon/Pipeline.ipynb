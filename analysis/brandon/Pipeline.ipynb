{
 "cells": [
  {
   "cell_type": "code",
   "execution_count": 1,
   "id": "de718c73",
   "metadata": {},
   "outputs": [],
   "source": [
    "import pandas as pd\n",
    "import numpy as np\n",
    "import matplotlib.pyplot as plt\n",
    "import seaborn as sns"
   ]
  },
  {
   "cell_type": "code",
   "execution_count": 3,
   "id": "2c00037d",
   "metadata": {},
   "outputs": [],
   "source": [
    "dfraw = pd.read_csv(\"C:/Users/Don/Desktop/DATA 301/Project/FiresNEW.csv\", encoding = 'ISO-8859-1', low_memory=False)\n",
    "df1 = dfraw.drop(columns=[\"FOD_ID\",\"FPA_ID\",\"SOURCE_SYSTEM_TYPE\",\"SOURCE_SYSTEM\",\"NWCG_REPORTING_AGENCY\",\"NWCG_REPORTING_UNIT_ID\",\"NWCG_REPORTING_UNIT_NAME\",\"SOURCE_REPORTING_UNIT\",\"SOURCE_REPORTING_UNIT_NAME\",\"LOCAL_FIRE_REPORT_ID\",\"LOCAL_INCIDENT_ID\",\"FIRE_CODE\",\"FIRE_NAME\",\"ICS_209_PLUS_INCIDENT_JOIN_ID\",\"ICS_209_PLUS_COMPLEX_JOIN_ID\",\"MTBS_ID\",\"MTBS_FIRE_NAME\",\"COMPLEX_NAME\",\"DISCOVERY_DATE\",\"DISCOVERY_DOY\",\"DISCOVERY_TIME\",\"NWCG_GENERAL_CAUSE\",\"NWCG_CAUSE_AGE_CATEGORY\",\"CONT_DATE\",\"CONT_DOY\",\"CONT_TIME\",\"LATITUDE\",\"LONGITUDE\",\"OWNER_DESCR\",\"COUNTY\",\"FIPS_CODE\",\"FIPS_NAME\"])\n",
    "df1 = df1.drop(df1[df1.NWCG_CAUSE_CLASSIFICATION == 'Human'].index)\n",
    "df1 = df1.drop(df1[df1.NWCG_CAUSE_CLASSIFICATION == 'Missing data/not specified/undetermined'].index)\n",
    "df1 = df1.dropna()\n",
    "df1 = df1.drop(df1[df1.FIRE_SIZE_CLASS == 'A'].index)\n",
    "df1 = df1.drop(columns=['NWCG_CAUSE_CLASSIFICATION'])"
   ]
  },
  {
   "cell_type": "code",
   "execution_count": 4,
   "id": "be0a2235",
   "metadata": {},
   "outputs": [],
   "source": [
    "dfstate = pd.read_csv(\"C:/Users/Don/Desktop/DATA 301/Project/csvData.csv\")\n",
    "dfstate = (\n",
    "    dfstate.drop(columns='Abbrev')\n",
    "    .rename(columns={'Code':'STATE'})\n",
    ")"
   ]
  },
  {
   "cell_type": "code",
   "execution_count": 5,
   "id": "2439c47b",
   "metadata": {},
   "outputs": [],
   "source": [
    "dftemp = pd.read_csv(\"C:/Users/Don/Desktop/DATA 301/Project/tavg.csv\")\n",
    "f = lambda dftemp : dftemp['Location'].split(\"CD\")\n",
    "dftemp['Location'] = dftemp.apply(f, axis=1)\n",
    "g = lambda dftemp : dftemp['Location'].pop(0)\n",
    "dftemp['Location'] = dftemp.apply(g, axis=1)\n",
    "dftemp = dftemp.reset_index()\n",
    "dftemp = dftemp.drop(columns=['Location ID','Value','Rank','Anomaly (1901-2000 base period)'])\n",
    "dftemp['Celsius'] = (dftemp['1901-2000 Mean']-32)*5/9\n",
    "dftemp['Celsius'] = dftemp['Celsius'].round(1)\n",
    "dftemp = dftemp.drop(columns=['1901-2000 Mean'])\n",
    "dftemp = dftemp.drop(dftemp[dftemp.Date % 10 != 7].index)\n",
    "dftemp['Date'] = dftemp['Date']//100\n",
    "dftemp = pd.DataFrame(dftemp.groupby(['Location','Date','Celsius']).sum())\n",
    "dftemp = dftemp.reset_index(inplace=True)"
   ]
  },
  {
   "cell_type": "code",
   "execution_count": null,
   "id": "ee8a7dc4",
   "metadata": {},
   "outputs": [],
   "source": []
  }
 ],
 "metadata": {
  "kernelspec": {
   "display_name": "Python 3 (ipykernel)",
   "language": "python",
   "name": "python3"
  },
  "language_info": {
   "codemirror_mode": {
    "name": "ipython",
    "version": 3
   },
   "file_extension": ".py",
   "mimetype": "text/x-python",
   "name": "python",
   "nbconvert_exporter": "python",
   "pygments_lexer": "ipython3",
   "version": "3.8.5"
  }
 },
 "nbformat": 4,
 "nbformat_minor": 5
}
