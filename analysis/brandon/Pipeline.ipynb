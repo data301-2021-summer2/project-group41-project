{
 "cells": [
  {
   "cell_type": "code",
   "execution_count": 5,
   "id": "0255aa77",
   "metadata": {},
   "outputs": [],
   "source": [
    "import pandas as pd\n",
    "import numpy as np\n",
    "import matplotlib.pyplot as plt\n",
    "import seaborn as sns"
   ]
  },
  {
   "cell_type": "code",
   "execution_count": 15,
   "id": "5daa5825",
   "metadata": {},
   "outputs": [
    {
     "ename": "KeyError",
     "evalue": "\"['FOD_ID' 'FPA_ID' 'SOURCE_SYSTEM_TYPE' 'SOURCE_SYSTEM'\\n 'NWCG_REPORTING_AGENCY' 'NWCG_REPORTING_UNIT_ID'\\n 'NWCG_REPORTING_UNIT_NAME' 'SOURCE_REPORTING_UNIT'\\n 'SOURCE_REPORTING_UNIT_NAME' 'LOCAL_FIRE_REPORT_ID' 'LOCAL_INCIDENT_ID'\\n 'FIRE_CODE' 'FIRE_NAME' 'ICS_209_PLUS_INCIDENT_JOIN_ID'\\n 'ICS_209_PLUS_COMPLEX_JOIN_ID' 'MTBS_ID' 'MTBS_FIRE_NAME' 'COMPLEX_NAME'\\n 'DISCOVERY_DATE' 'DISCOVERY_DOY' 'DISCOVERY_TIME' 'NWCG_GENERAL_CAUSE'\\n 'NWCG_CAUSE_AGE_CATEGORY' 'CONT_DATE' 'CONT_DOY' 'CONT_TIME' 'LATITUDE'\\n 'LONGITUDE' 'OWNER_DESCR' 'COUNTY' 'FIPS_CODE' 'FIPS_NAME'] not found in axis\"",
     "output_type": "error",
     "traceback": [
      "\u001b[1;31m---------------------------------------------------------------------------\u001b[0m",
      "\u001b[1;31mKeyError\u001b[0m                                  Traceback (most recent call last)",
      "\u001b[1;32m~\\AppData\\Local\\Temp/ipykernel_11852/1557815221.py\u001b[0m in \u001b[0;36m<module>\u001b[1;34m\u001b[0m\n\u001b[0;32m      1\u001b[0m \u001b[0mdff\u001b[0m \u001b[1;33m=\u001b[0m \u001b[0mpd\u001b[0m\u001b[1;33m.\u001b[0m\u001b[0mread_csv\u001b[0m\u001b[1;33m(\u001b[0m\u001b[1;34m'https://raw.githubusercontent.com/data301-2021-summer2/project-group41-project/main/data/processed/FiresNEW.csv?token=AUXSV2UTBCDHPSFSJ7M4UZTBA4RDU'\u001b[0m\u001b[1;33m,\u001b[0m \u001b[0mencoding\u001b[0m \u001b[1;33m=\u001b[0m \u001b[1;34m'ISO-8859-1'\u001b[0m\u001b[1;33m,\u001b[0m \u001b[0mlow_memory\u001b[0m\u001b[1;33m=\u001b[0m\u001b[1;32mFalse\u001b[0m\u001b[1;33m)\u001b[0m\u001b[1;33m\u001b[0m\u001b[1;33m\u001b[0m\u001b[0m\n\u001b[0;32m      2\u001b[0m dff = (\n\u001b[1;32m----> 3\u001b[1;33m     \u001b[0mdff\u001b[0m\u001b[1;33m.\u001b[0m\u001b[0mdrop\u001b[0m\u001b[1;33m(\u001b[0m\u001b[0mcolumns\u001b[0m\u001b[1;33m=\u001b[0m\u001b[1;33m[\u001b[0m\u001b[1;34m\"FOD_ID\"\u001b[0m\u001b[1;33m,\u001b[0m\u001b[1;34m\"FPA_ID\"\u001b[0m\u001b[1;33m,\u001b[0m\u001b[1;34m\"SOURCE_SYSTEM_TYPE\"\u001b[0m\u001b[1;33m,\u001b[0m\u001b[1;34m\"SOURCE_SYSTEM\"\u001b[0m\u001b[1;33m,\u001b[0m\u001b[1;34m\"NWCG_REPORTING_AGENCY\"\u001b[0m\u001b[1;33m,\u001b[0m\u001b[1;34m\"NWCG_REPORTING_UNIT_ID\"\u001b[0m\u001b[1;33m,\u001b[0m\u001b[1;34m\"NWCG_REPORTING_UNIT_NAME\"\u001b[0m\u001b[1;33m,\u001b[0m\u001b[1;34m\"SOURCE_REPORTING_UNIT\"\u001b[0m\u001b[1;33m,\u001b[0m\u001b[1;34m\"SOURCE_REPORTING_UNIT_NAME\"\u001b[0m\u001b[1;33m,\u001b[0m\u001b[1;34m\"LOCAL_FIRE_REPORT_ID\"\u001b[0m\u001b[1;33m,\u001b[0m\u001b[1;34m\"LOCAL_INCIDENT_ID\"\u001b[0m\u001b[1;33m,\u001b[0m\u001b[1;34m\"FIRE_CODE\"\u001b[0m\u001b[1;33m,\u001b[0m\u001b[1;34m\"FIRE_NAME\"\u001b[0m\u001b[1;33m,\u001b[0m\u001b[1;34m\"ICS_209_PLUS_INCIDENT_JOIN_ID\"\u001b[0m\u001b[1;33m,\u001b[0m\u001b[1;34m\"ICS_209_PLUS_COMPLEX_JOIN_ID\"\u001b[0m\u001b[1;33m,\u001b[0m\u001b[1;34m\"MTBS_ID\"\u001b[0m\u001b[1;33m,\u001b[0m\u001b[1;34m\"MTBS_FIRE_NAME\"\u001b[0m\u001b[1;33m,\u001b[0m\u001b[1;34m\"COMPLEX_NAME\"\u001b[0m\u001b[1;33m,\u001b[0m\u001b[1;34m\"DISCOVERY_DATE\"\u001b[0m\u001b[1;33m,\u001b[0m\u001b[1;34m\"DISCOVERY_DOY\"\u001b[0m\u001b[1;33m,\u001b[0m\u001b[1;34m\"DISCOVERY_TIME\"\u001b[0m\u001b[1;33m,\u001b[0m\u001b[1;34m\"NWCG_GENERAL_CAUSE\"\u001b[0m\u001b[1;33m,\u001b[0m\u001b[1;34m\"NWCG_CAUSE_AGE_CATEGORY\"\u001b[0m\u001b[1;33m,\u001b[0m\u001b[1;34m\"CONT_DATE\"\u001b[0m\u001b[1;33m,\u001b[0m\u001b[1;34m\"CONT_DOY\"\u001b[0m\u001b[1;33m,\u001b[0m\u001b[1;34m\"CONT_TIME\"\u001b[0m\u001b[1;33m,\u001b[0m\u001b[1;34m\"LATITUDE\"\u001b[0m\u001b[1;33m,\u001b[0m\u001b[1;34m\"LONGITUDE\"\u001b[0m\u001b[1;33m,\u001b[0m\u001b[1;34m\"OWNER_DESCR\"\u001b[0m\u001b[1;33m,\u001b[0m\u001b[1;34m\"COUNTY\"\u001b[0m\u001b[1;33m,\u001b[0m\u001b[1;34m\"FIPS_CODE\"\u001b[0m\u001b[1;33m,\u001b[0m\u001b[1;34m\"FIPS_NAME\"\u001b[0m\u001b[1;33m]\u001b[0m\u001b[1;33m)\u001b[0m\u001b[1;33m\u001b[0m\u001b[1;33m\u001b[0m\u001b[0m\n\u001b[0m\u001b[0;32m      4\u001b[0m     \u001b[1;33m.\u001b[0m\u001b[0mdrop\u001b[0m\u001b[1;33m(\u001b[0m\u001b[0mdff\u001b[0m\u001b[1;33m[\u001b[0m\u001b[0mdff\u001b[0m\u001b[1;33m.\u001b[0m\u001b[0mNWCG_CAUSE_CLASSIFICATION\u001b[0m \u001b[1;33m==\u001b[0m \u001b[1;34m'Human'\u001b[0m\u001b[1;33m]\u001b[0m\u001b[1;33m.\u001b[0m\u001b[0mindex\u001b[0m\u001b[1;33m)\u001b[0m\u001b[1;33m\u001b[0m\u001b[1;33m\u001b[0m\u001b[0m\n\u001b[0;32m      5\u001b[0m     \u001b[1;33m.\u001b[0m\u001b[0mdrop\u001b[0m\u001b[1;33m(\u001b[0m\u001b[0mdff\u001b[0m\u001b[1;33m[\u001b[0m\u001b[0mdff\u001b[0m\u001b[1;33m.\u001b[0m\u001b[0mNWCG_CAUSE_CLASSIFICATION\u001b[0m \u001b[1;33m==\u001b[0m \u001b[1;34m'Missing data/not specified/undetermined'\u001b[0m\u001b[1;33m]\u001b[0m\u001b[1;33m.\u001b[0m\u001b[0mindex\u001b[0m\u001b[1;33m)\u001b[0m\u001b[1;33m\u001b[0m\u001b[1;33m\u001b[0m\u001b[0m\n",
      "\u001b[1;32m~\\miniconda3\\lib\\site-packages\\pandas\\util\\_decorators.py\u001b[0m in \u001b[0;36mwrapper\u001b[1;34m(*args, **kwargs)\u001b[0m\n\u001b[0;32m    309\u001b[0m                     \u001b[0mstacklevel\u001b[0m\u001b[1;33m=\u001b[0m\u001b[0mstacklevel\u001b[0m\u001b[1;33m,\u001b[0m\u001b[1;33m\u001b[0m\u001b[1;33m\u001b[0m\u001b[0m\n\u001b[0;32m    310\u001b[0m                 )\n\u001b[1;32m--> 311\u001b[1;33m             \u001b[1;32mreturn\u001b[0m \u001b[0mfunc\u001b[0m\u001b[1;33m(\u001b[0m\u001b[1;33m*\u001b[0m\u001b[0margs\u001b[0m\u001b[1;33m,\u001b[0m \u001b[1;33m**\u001b[0m\u001b[0mkwargs\u001b[0m\u001b[1;33m)\u001b[0m\u001b[1;33m\u001b[0m\u001b[1;33m\u001b[0m\u001b[0m\n\u001b[0m\u001b[0;32m    312\u001b[0m \u001b[1;33m\u001b[0m\u001b[0m\n\u001b[0;32m    313\u001b[0m         \u001b[1;32mreturn\u001b[0m \u001b[0mwrapper\u001b[0m\u001b[1;33m\u001b[0m\u001b[1;33m\u001b[0m\u001b[0m\n",
      "\u001b[1;32m~\\miniconda3\\lib\\site-packages\\pandas\\core\\frame.py\u001b[0m in \u001b[0;36mdrop\u001b[1;34m(self, labels, axis, index, columns, level, inplace, errors)\u001b[0m\n\u001b[0;32m   4899\u001b[0m                 \u001b[0mweight\u001b[0m  \u001b[1;36m1.0\u001b[0m     \u001b[1;36m0.8\u001b[0m\u001b[1;33m\u001b[0m\u001b[1;33m\u001b[0m\u001b[0m\n\u001b[0;32m   4900\u001b[0m         \"\"\"\n\u001b[1;32m-> 4901\u001b[1;33m         return super().drop(\n\u001b[0m\u001b[0;32m   4902\u001b[0m             \u001b[0mlabels\u001b[0m\u001b[1;33m=\u001b[0m\u001b[0mlabels\u001b[0m\u001b[1;33m,\u001b[0m\u001b[1;33m\u001b[0m\u001b[1;33m\u001b[0m\u001b[0m\n\u001b[0;32m   4903\u001b[0m             \u001b[0maxis\u001b[0m\u001b[1;33m=\u001b[0m\u001b[0maxis\u001b[0m\u001b[1;33m,\u001b[0m\u001b[1;33m\u001b[0m\u001b[1;33m\u001b[0m\u001b[0m\n",
      "\u001b[1;32m~\\miniconda3\\lib\\site-packages\\pandas\\core\\generic.py\u001b[0m in \u001b[0;36mdrop\u001b[1;34m(self, labels, axis, index, columns, level, inplace, errors)\u001b[0m\n\u001b[0;32m   4145\u001b[0m         \u001b[1;32mfor\u001b[0m \u001b[0maxis\u001b[0m\u001b[1;33m,\u001b[0m \u001b[0mlabels\u001b[0m \u001b[1;32min\u001b[0m \u001b[0maxes\u001b[0m\u001b[1;33m.\u001b[0m\u001b[0mitems\u001b[0m\u001b[1;33m(\u001b[0m\u001b[1;33m)\u001b[0m\u001b[1;33m:\u001b[0m\u001b[1;33m\u001b[0m\u001b[1;33m\u001b[0m\u001b[0m\n\u001b[0;32m   4146\u001b[0m             \u001b[1;32mif\u001b[0m \u001b[0mlabels\u001b[0m \u001b[1;32mis\u001b[0m \u001b[1;32mnot\u001b[0m \u001b[1;32mNone\u001b[0m\u001b[1;33m:\u001b[0m\u001b[1;33m\u001b[0m\u001b[1;33m\u001b[0m\u001b[0m\n\u001b[1;32m-> 4147\u001b[1;33m                 \u001b[0mobj\u001b[0m \u001b[1;33m=\u001b[0m \u001b[0mobj\u001b[0m\u001b[1;33m.\u001b[0m\u001b[0m_drop_axis\u001b[0m\u001b[1;33m(\u001b[0m\u001b[0mlabels\u001b[0m\u001b[1;33m,\u001b[0m \u001b[0maxis\u001b[0m\u001b[1;33m,\u001b[0m \u001b[0mlevel\u001b[0m\u001b[1;33m=\u001b[0m\u001b[0mlevel\u001b[0m\u001b[1;33m,\u001b[0m \u001b[0merrors\u001b[0m\u001b[1;33m=\u001b[0m\u001b[0merrors\u001b[0m\u001b[1;33m)\u001b[0m\u001b[1;33m\u001b[0m\u001b[1;33m\u001b[0m\u001b[0m\n\u001b[0m\u001b[0;32m   4148\u001b[0m \u001b[1;33m\u001b[0m\u001b[0m\n\u001b[0;32m   4149\u001b[0m         \u001b[1;32mif\u001b[0m \u001b[0minplace\u001b[0m\u001b[1;33m:\u001b[0m\u001b[1;33m\u001b[0m\u001b[1;33m\u001b[0m\u001b[0m\n",
      "\u001b[1;32m~\\miniconda3\\lib\\site-packages\\pandas\\core\\generic.py\u001b[0m in \u001b[0;36m_drop_axis\u001b[1;34m(self, labels, axis, level, errors)\u001b[0m\n\u001b[0;32m   4180\u001b[0m                 \u001b[0mnew_axis\u001b[0m \u001b[1;33m=\u001b[0m \u001b[0maxis\u001b[0m\u001b[1;33m.\u001b[0m\u001b[0mdrop\u001b[0m\u001b[1;33m(\u001b[0m\u001b[0mlabels\u001b[0m\u001b[1;33m,\u001b[0m \u001b[0mlevel\u001b[0m\u001b[1;33m=\u001b[0m\u001b[0mlevel\u001b[0m\u001b[1;33m,\u001b[0m \u001b[0merrors\u001b[0m\u001b[1;33m=\u001b[0m\u001b[0merrors\u001b[0m\u001b[1;33m)\u001b[0m\u001b[1;33m\u001b[0m\u001b[1;33m\u001b[0m\u001b[0m\n\u001b[0;32m   4181\u001b[0m             \u001b[1;32melse\u001b[0m\u001b[1;33m:\u001b[0m\u001b[1;33m\u001b[0m\u001b[1;33m\u001b[0m\u001b[0m\n\u001b[1;32m-> 4182\u001b[1;33m                 \u001b[0mnew_axis\u001b[0m \u001b[1;33m=\u001b[0m \u001b[0maxis\u001b[0m\u001b[1;33m.\u001b[0m\u001b[0mdrop\u001b[0m\u001b[1;33m(\u001b[0m\u001b[0mlabels\u001b[0m\u001b[1;33m,\u001b[0m \u001b[0merrors\u001b[0m\u001b[1;33m=\u001b[0m\u001b[0merrors\u001b[0m\u001b[1;33m)\u001b[0m\u001b[1;33m\u001b[0m\u001b[1;33m\u001b[0m\u001b[0m\n\u001b[0m\u001b[0;32m   4183\u001b[0m             \u001b[0mresult\u001b[0m \u001b[1;33m=\u001b[0m \u001b[0mself\u001b[0m\u001b[1;33m.\u001b[0m\u001b[0mreindex\u001b[0m\u001b[1;33m(\u001b[0m\u001b[1;33m**\u001b[0m\u001b[1;33m{\u001b[0m\u001b[0maxis_name\u001b[0m\u001b[1;33m:\u001b[0m \u001b[0mnew_axis\u001b[0m\u001b[1;33m}\u001b[0m\u001b[1;33m)\u001b[0m\u001b[1;33m\u001b[0m\u001b[1;33m\u001b[0m\u001b[0m\n\u001b[0;32m   4184\u001b[0m \u001b[1;33m\u001b[0m\u001b[0m\n",
      "\u001b[1;32m~\\miniconda3\\lib\\site-packages\\pandas\\core\\indexes\\base.py\u001b[0m in \u001b[0;36mdrop\u001b[1;34m(self, labels, errors)\u001b[0m\n\u001b[0;32m   6016\u001b[0m         \u001b[1;32mif\u001b[0m \u001b[0mmask\u001b[0m\u001b[1;33m.\u001b[0m\u001b[0many\u001b[0m\u001b[1;33m(\u001b[0m\u001b[1;33m)\u001b[0m\u001b[1;33m:\u001b[0m\u001b[1;33m\u001b[0m\u001b[1;33m\u001b[0m\u001b[0m\n\u001b[0;32m   6017\u001b[0m             \u001b[1;32mif\u001b[0m \u001b[0merrors\u001b[0m \u001b[1;33m!=\u001b[0m \u001b[1;34m\"ignore\"\u001b[0m\u001b[1;33m:\u001b[0m\u001b[1;33m\u001b[0m\u001b[1;33m\u001b[0m\u001b[0m\n\u001b[1;32m-> 6018\u001b[1;33m                 \u001b[1;32mraise\u001b[0m \u001b[0mKeyError\u001b[0m\u001b[1;33m(\u001b[0m\u001b[1;34mf\"{labels[mask]} not found in axis\"\u001b[0m\u001b[1;33m)\u001b[0m\u001b[1;33m\u001b[0m\u001b[1;33m\u001b[0m\u001b[0m\n\u001b[0m\u001b[0;32m   6019\u001b[0m             \u001b[0mindexer\u001b[0m \u001b[1;33m=\u001b[0m \u001b[0mindexer\u001b[0m\u001b[1;33m[\u001b[0m\u001b[1;33m~\u001b[0m\u001b[0mmask\u001b[0m\u001b[1;33m]\u001b[0m\u001b[1;33m\u001b[0m\u001b[1;33m\u001b[0m\u001b[0m\n\u001b[0;32m   6020\u001b[0m         \u001b[1;32mreturn\u001b[0m \u001b[0mself\u001b[0m\u001b[1;33m.\u001b[0m\u001b[0mdelete\u001b[0m\u001b[1;33m(\u001b[0m\u001b[0mindexer\u001b[0m\u001b[1;33m)\u001b[0m\u001b[1;33m\u001b[0m\u001b[1;33m\u001b[0m\u001b[0m\n",
      "\u001b[1;31mKeyError\u001b[0m: \"['FOD_ID' 'FPA_ID' 'SOURCE_SYSTEM_TYPE' 'SOURCE_SYSTEM'\\n 'NWCG_REPORTING_AGENCY' 'NWCG_REPORTING_UNIT_ID'\\n 'NWCG_REPORTING_UNIT_NAME' 'SOURCE_REPORTING_UNIT'\\n 'SOURCE_REPORTING_UNIT_NAME' 'LOCAL_FIRE_REPORT_ID' 'LOCAL_INCIDENT_ID'\\n 'FIRE_CODE' 'FIRE_NAME' 'ICS_209_PLUS_INCIDENT_JOIN_ID'\\n 'ICS_209_PLUS_COMPLEX_JOIN_ID' 'MTBS_ID' 'MTBS_FIRE_NAME' 'COMPLEX_NAME'\\n 'DISCOVERY_DATE' 'DISCOVERY_DOY' 'DISCOVERY_TIME' 'NWCG_GENERAL_CAUSE'\\n 'NWCG_CAUSE_AGE_CATEGORY' 'CONT_DATE' 'CONT_DOY' 'CONT_TIME' 'LATITUDE'\\n 'LONGITUDE' 'OWNER_DESCR' 'COUNTY' 'FIPS_CODE' 'FIPS_NAME'] not found in axis\""
     ]
    }
   ],
   "source": [
    "    dff = pd.read_csv('https://raw.githubusercontent.com/data301-2021-summer2/project-group41-project/main/data/processed/FiresNEW.csv?token=AUXSV2UTBCDHPSFSJ7M4UZTBA4RDU', encoding = 'ISO-8859-1', low_memory=False)\n",
    "    dff = (\n",
    "        dff.drop(columns=[\"FOD_ID\",\"FPA_ID\",\"SOURCE_SYSTEM_TYPE\",\"SOURCE_SYSTEM\",\"NWCG_REPORTING_AGENCY\",\"NWCG_REPORTING_UNIT_ID\",\"NWCG_REPORTING_UNIT_NAME\",\"SOURCE_REPORTING_UNIT\",\"SOURCE_REPORTING_UNIT_NAME\",\"LOCAL_FIRE_REPORT_ID\",\"LOCAL_INCIDENT_ID\",\"FIRE_CODE\",\"FIRE_NAME\",\"ICS_209_PLUS_INCIDENT_JOIN_ID\",\"ICS_209_PLUS_COMPLEX_JOIN_ID\",\"MTBS_ID\",\"MTBS_FIRE_NAME\",\"COMPLEX_NAME\",\"DISCOVERY_DATE\",\"DISCOVERY_DOY\",\"DISCOVERY_TIME\",\"NWCG_GENERAL_CAUSE\",\"NWCG_CAUSE_AGE_CATEGORY\",\"CONT_DATE\",\"CONT_DOY\",\"CONT_TIME\",\"LATITUDE\",\"LONGITUDE\",\"OWNER_DESCR\",\"COUNTY\",\"FIPS_CODE\",\"FIPS_NAME\"])\n",
    "        .drop(dff[dff.NWCG_CAUSE_CLASSIFICATION == 'Human'].index)\n",
    "        .drop(dff[dff.NWCG_CAUSE_CLASSIFICATION == 'Missing data/not specified/undetermined'].index)\n",
    "        .dropna()\n",
    "        .drop(dff[(dff.FIRE_SIZE_CLASS == 'A')].index)\n",
    "        .drop(columns=['NWCG_CAUSE_CLASSIFICATION'])\n",
    "    )\n",
    "dff.head()\n"
   ]
  },
  {
   "cell_type": "code",
   "execution_count": 19,
   "id": "201f1e8c",
   "metadata": {},
   "outputs": [
    {
     "data": {
      "text/html": [
       "<div>\n",
       "<style scoped>\n",
       "    .dataframe tbody tr th:only-of-type {\n",
       "        vertical-align: middle;\n",
       "    }\n",
       "\n",
       "    .dataframe tbody tr th {\n",
       "        vertical-align: top;\n",
       "    }\n",
       "\n",
       "    .dataframe thead th {\n",
       "        text-align: right;\n",
       "    }\n",
       "</style>\n",
       "<table border=\"1\" class=\"dataframe\">\n",
       "  <thead>\n",
       "    <tr style=\"text-align: right;\">\n",
       "      <th></th>\n",
       "      <th>State</th>\n",
       "      <th>STATE</th>\n",
       "    </tr>\n",
       "  </thead>\n",
       "  <tbody>\n",
       "    <tr>\n",
       "      <th>0</th>\n",
       "      <td>Alabama</td>\n",
       "      <td>AL</td>\n",
       "    </tr>\n",
       "    <tr>\n",
       "      <th>1</th>\n",
       "      <td>Alaska</td>\n",
       "      <td>AK</td>\n",
       "    </tr>\n",
       "    <tr>\n",
       "      <th>2</th>\n",
       "      <td>Arizona</td>\n",
       "      <td>AZ</td>\n",
       "    </tr>\n",
       "    <tr>\n",
       "      <th>3</th>\n",
       "      <td>Arkansas</td>\n",
       "      <td>AR</td>\n",
       "    </tr>\n",
       "    <tr>\n",
       "      <th>4</th>\n",
       "      <td>California</td>\n",
       "      <td>CA</td>\n",
       "    </tr>\n",
       "  </tbody>\n",
       "</table>\n",
       "</div>"
      ],
      "text/plain": [
       "        State STATE\n",
       "0     Alabama    AL\n",
       "1      Alaska    AK\n",
       "2     Arizona    AZ\n",
       "3    Arkansas    AR\n",
       "4  California    CA"
      ]
     },
     "execution_count": 19,
     "metadata": {},
     "output_type": "execute_result"
    }
   ],
   "source": [
    "    dfstate = pd.read_csv('https://raw.githubusercontent.com/data301-2021-summer2/project-group41-project/main/data/processed/csvData.csv?token=AI4GJYBHQ5NOQRGXEA722W3BA4SNK')\n",
    "    dfstate = (\n",
    "        dfstate.drop(columns='Abbrev')\n",
    "        .rename(columns={'Code':'STATE'})\n",
    "    )\n",
    "    \n",
    "    \n",
    "   "
   ]
  },
  {
   "cell_type": "code",
   "execution_count": 16,
   "id": "e18c87f7",
   "metadata": {},
   "outputs": [
    {
     "ename": "KeyError",
     "evalue": "\"None of ['STATE'] are in the columns\"",
     "output_type": "error",
     "traceback": [
      "\u001b[1;31m---------------------------------------------------------------------------\u001b[0m",
      "\u001b[1;31mKeyError\u001b[0m                                  Traceback (most recent call last)",
      "\u001b[1;32m~\\AppData\\Local\\Temp/ipykernel_11852/2494965119.py\u001b[0m in \u001b[0;36m<module>\u001b[1;34m\u001b[0m\n\u001b[0;32m      1\u001b[0m df3 = (\n\u001b[1;32m----> 2\u001b[1;33m     \u001b[0mdff\u001b[0m\u001b[1;33m.\u001b[0m\u001b[0mset_index\u001b[0m\u001b[1;33m(\u001b[0m\u001b[1;34m'STATE'\u001b[0m\u001b[1;33m)\u001b[0m\u001b[1;33m.\u001b[0m\u001b[0mcombine_first\u001b[0m\u001b[1;33m(\u001b[0m\u001b[0mdfstate\u001b[0m\u001b[1;33m.\u001b[0m\u001b[0mset_index\u001b[0m\u001b[1;33m(\u001b[0m\u001b[1;34m'STATE'\u001b[0m\u001b[1;33m)\u001b[0m\u001b[1;33m)\u001b[0m\u001b[1;33m\u001b[0m\u001b[1;33m\u001b[0m\u001b[0m\n\u001b[0m\u001b[0;32m      3\u001b[0m     \u001b[1;33m.\u001b[0m\u001b[0mreset_index\u001b[0m\u001b[1;33m(\u001b[0m\u001b[0minplace\u001b[0m\u001b[1;33m=\u001b[0m\u001b[1;32mTrue\u001b[0m\u001b[1;33m)\u001b[0m\u001b[1;33m\u001b[0m\u001b[1;33m\u001b[0m\u001b[0m\n\u001b[0;32m      4\u001b[0m     \u001b[1;33m.\u001b[0m\u001b[0mdrop\u001b[0m\u001b[1;33m(\u001b[0m\u001b[0mcolumns\u001b[0m\u001b[1;33m=\u001b[0m\u001b[1;34m'STATE'\u001b[0m\u001b[1;33m)\u001b[0m\u001b[1;33m\u001b[0m\u001b[1;33m\u001b[0m\u001b[0m\n\u001b[0;32m      5\u001b[0m     \u001b[1;33m.\u001b[0m\u001b[0mdropna\u001b[0m\u001b[1;33m(\u001b[0m\u001b[1;33m)\u001b[0m\u001b[1;33m\u001b[0m\u001b[1;33m\u001b[0m\u001b[0m\n",
      "\u001b[1;32m~\\miniconda3\\lib\\site-packages\\pandas\\util\\_decorators.py\u001b[0m in \u001b[0;36mwrapper\u001b[1;34m(*args, **kwargs)\u001b[0m\n\u001b[0;32m    309\u001b[0m                     \u001b[0mstacklevel\u001b[0m\u001b[1;33m=\u001b[0m\u001b[0mstacklevel\u001b[0m\u001b[1;33m,\u001b[0m\u001b[1;33m\u001b[0m\u001b[1;33m\u001b[0m\u001b[0m\n\u001b[0;32m    310\u001b[0m                 )\n\u001b[1;32m--> 311\u001b[1;33m             \u001b[1;32mreturn\u001b[0m \u001b[0mfunc\u001b[0m\u001b[1;33m(\u001b[0m\u001b[1;33m*\u001b[0m\u001b[0margs\u001b[0m\u001b[1;33m,\u001b[0m \u001b[1;33m**\u001b[0m\u001b[0mkwargs\u001b[0m\u001b[1;33m)\u001b[0m\u001b[1;33m\u001b[0m\u001b[1;33m\u001b[0m\u001b[0m\n\u001b[0m\u001b[0;32m    312\u001b[0m \u001b[1;33m\u001b[0m\u001b[0m\n\u001b[0;32m    313\u001b[0m         \u001b[1;32mreturn\u001b[0m \u001b[0mwrapper\u001b[0m\u001b[1;33m\u001b[0m\u001b[1;33m\u001b[0m\u001b[0m\n",
      "\u001b[1;32m~\\miniconda3\\lib\\site-packages\\pandas\\core\\frame.py\u001b[0m in \u001b[0;36mset_index\u001b[1;34m(self, keys, drop, append, inplace, verify_integrity)\u001b[0m\n\u001b[0;32m   5444\u001b[0m \u001b[1;33m\u001b[0m\u001b[0m\n\u001b[0;32m   5445\u001b[0m         \u001b[1;32mif\u001b[0m \u001b[0mmissing\u001b[0m\u001b[1;33m:\u001b[0m\u001b[1;33m\u001b[0m\u001b[1;33m\u001b[0m\u001b[0m\n\u001b[1;32m-> 5446\u001b[1;33m             \u001b[1;32mraise\u001b[0m \u001b[0mKeyError\u001b[0m\u001b[1;33m(\u001b[0m\u001b[1;34mf\"None of {missing} are in the columns\"\u001b[0m\u001b[1;33m)\u001b[0m\u001b[1;33m\u001b[0m\u001b[1;33m\u001b[0m\u001b[0m\n\u001b[0m\u001b[0;32m   5447\u001b[0m \u001b[1;33m\u001b[0m\u001b[0m\n\u001b[0;32m   5448\u001b[0m         \u001b[1;32mif\u001b[0m \u001b[0minplace\u001b[0m\u001b[1;33m:\u001b[0m\u001b[1;33m\u001b[0m\u001b[1;33m\u001b[0m\u001b[0m\n",
      "\u001b[1;31mKeyError\u001b[0m: \"None of ['STATE'] are in the columns\""
     ]
    }
   ],
   "source": [
    "    df3 = (\n",
    "        dff.set_index('STATE').combine_first(dfstate.set_index('STATE'))\n",
    "        .reset_index(inplace=True)\n",
    "        .drop(columns='STATE')\n",
    "        .dropna()\n",
    "        .rename(columns={'FIRE_YEAR':'Date','State':'Location'})\n",
    "    )\n",
    "    df2['Date'] = df2['Date'].astype(int)\n"
   ]
  },
  {
   "cell_type": "code",
   "execution_count": 26,
   "id": "5e8494b1",
   "metadata": {},
   "outputs": [
    {
     "ename": "NameError",
     "evalue": "name 'df2' is not defined",
     "output_type": "error",
     "traceback": [
      "\u001b[1;31m---------------------------------------------------------------------------\u001b[0m",
      "\u001b[1;31mNameError\u001b[0m                                 Traceback (most recent call last)",
      "\u001b[1;32m~\\AppData\\Local\\Temp/ipykernel_11852/3126502096.py\u001b[0m in \u001b[0;36m<module>\u001b[1;34m\u001b[0m\n\u001b[0;32m     21\u001b[0m \u001b[1;33m\u001b[0m\u001b[0m\n\u001b[0;32m     22\u001b[0m dffinal = (\n\u001b[1;32m---> 23\u001b[1;33m     \u001b[0mdf2\u001b[0m\u001b[1;33m.\u001b[0m\u001b[0mgroupby\u001b[0m\u001b[1;33m(\u001b[0m\u001b[1;33m[\u001b[0m\u001b[1;34m'Date'\u001b[0m\u001b[1;33m,\u001b[0m\u001b[1;34m'Location'\u001b[0m\u001b[1;33m]\u001b[0m\u001b[1;33m)\u001b[0m\u001b[1;33m.\u001b[0m\u001b[0msize\u001b[0m\u001b[1;33m(\u001b[0m\u001b[1;33m)\u001b[0m\u001b[1;33m\u001b[0m\u001b[1;33m\u001b[0m\u001b[0m\n\u001b[0m\u001b[0;32m     24\u001b[0m      \u001b[1;33m.\u001b[0m\u001b[0mto_frame\u001b[0m\u001b[1;33m(\u001b[0m\u001b[1;33m)\u001b[0m\u001b[1;33m\u001b[0m\u001b[1;33m\u001b[0m\u001b[0m\n\u001b[0;32m     25\u001b[0m     \u001b[1;33m.\u001b[0m\u001b[0mreset_index\u001b[0m\u001b[1;33m(\u001b[0m\u001b[0minplace\u001b[0m \u001b[1;33m=\u001b[0m \u001b[1;32mTrue\u001b[0m\u001b[1;33m)\u001b[0m\u001b[1;33m\u001b[0m\u001b[1;33m\u001b[0m\u001b[0m\n",
      "\u001b[1;31mNameError\u001b[0m: name 'df2' is not defined"
     ]
    }
   ],
   "source": [
    "dftemp=pd.read_csv('https://raw.githubusercontent.com/data301-2021-summer2/project-group41-project/main/data/processed/tavg.csv?token=AI4GJYEE7OU2ZA6CF6XEIE3BA4S3W')\n",
    "f = lambda dftemp : dftemp['Location'].split(\"CD\")\n",
    "dftemp['Location'] = dftemp.apply(f, axis=1)\n",
    "g = lambda dftemp : dftemp['Location'].pop(0)\n",
    "dftemp['Location'] = dftemp.apply(g, axis=1)\n",
    "dftemp.reset_index()\n",
    "dftemp = dftemp.drop(columns=['Location ID','Rank','Anomaly (1901-2000 base period)','1901-2000 Mean'])\n",
    "dftemp['Location'] = dftemp['Location'].str.rstrip()\n",
    "dftemp['Celsius'] = (dftemp['Value']-32)*5/9\n",
    "dftemp['Celsius'] = dftemp['Celsius'].round(1)\n",
    "dftemp = dftemp.drop(columns=['Value'])\n",
    "dftemp = dftemp.drop(dftemp[dftemp['Date'] % 10 != 7].index)\n",
    "dftemp['Date'] = dftemp['Date']//100\n",
    "dftemp['Date'] = dftemp['Date'].astype(int)\n",
    "dftemp = dftemp.drop(dftemp[dftemp.Date > 2018].index)\n",
    "dftemp = dftemp.drop(dftemp[dftemp['Date'] < 1992].index)\n",
    "dftemp = dftemp.reset_index(drop = True)\n",
    "dftemp = dftemp.reset_index(drop = False)\n",
    "\n",
    "\n",
    "\n",
    "dffinal = (\n",
    "    df2.groupby(['Date','Location']).size()\n",
    "     .to_frame()\n",
    "    .reset_index(inplace = True)\n",
    "    .drop(dffinal[dffinal.Location == 'Alaska'].index)\n",
    "    .drop(dffinal[dffinal.Location == 'Hawaii'].index)\n",
    "    .sort_values(by=['Location','Date'])\n",
    "    .rename(columns={0: '# of Fires'})\n",
    "    .reset_index(drop=True)\n",
    "     .reset_index(drop=False)\n",
    "    )\n",
    "\n",
    "d1=dffinal\n",
    "d1 = d1.drop(columns=['index'])\n",
    "d1['Date']=d1['Date'].values.astype(str)\n",
    "d1['Location']=d1['Location'].values.astype(str)\n",
    "d1['id'] = d1['Date'].str.cat(d1['Location'],sep='-')\n",
    "d1\n",
    "\n",
    "\n",
    "dftemp12 = dftemp\n",
    "dftemp12 = dftemp12.drop(columns=['index'])\n",
    "dftemp12['Date']=dftemp12['Date'].values.astype(str)\n",
    "dftemp12['Location']=dftemp12['Location'].values.astype(str)\n",
    "dftemp12['id'] = dftemp12['Date'].str.cat(dftemp12['Location'],sep='-')\n",
    "dftemp100 = dftemp12.drop(columns=['Date','Location'])\n",
    "dftemp100\n",
    "\n",
    "dffinal = pd.merge(d1,dftemp100,how='right',on='id')\n",
    "dffinal = dffinal.drop(columns=['id'])\n",
    "\n",
    "dffinal.head()"
   ]
  },
  {
   "cell_type": "code",
   "execution_count": null,
   "id": "063508d9",
   "metadata": {},
   "outputs": [],
   "source": []
  },
  {
   "cell_type": "code",
   "execution_count": null,
   "id": "e0ca18c0",
   "metadata": {},
   "outputs": [],
   "source": []
  },
  {
   "cell_type": "code",
   "execution_count": null,
   "id": "15c2c439",
   "metadata": {},
   "outputs": [],
   "source": []
  },
  {
   "cell_type": "code",
   "execution_count": null,
   "id": "fb076895",
   "metadata": {},
   "outputs": [],
   "source": []
  },
  {
   "cell_type": "code",
   "execution_count": null,
   "id": "fc554280",
   "metadata": {},
   "outputs": [],
   "source": []
  }
 ],
 "metadata": {
  "kernelspec": {
   "display_name": "Python 3 (ipykernel)",
   "language": "python",
   "name": "python3"
  },
  "language_info": {
   "codemirror_mode": {
    "name": "ipython",
    "version": 3
   },
   "file_extension": ".py",
   "mimetype": "text/x-python",
   "name": "python",
   "nbconvert_exporter": "python",
   "pygments_lexer": "ipython3",
   "version": "3.8.5"
  }
 },
 "nbformat": 4,
 "nbformat_minor": 5
}
